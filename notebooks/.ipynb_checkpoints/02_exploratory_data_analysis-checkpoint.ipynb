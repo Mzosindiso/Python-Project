{
 "cells": [
  {
   "cell_type": "code",
   "execution_count": null,
   "id": "initial_id",
   "metadata": {
    "collapsed": true
   },
   "outputs": [],
   "source": [
    "import sys\n",
    "sys.path.append('..')\n",
    "\n",
    "import pandas as pd\n",
    "from src.data_analysis import calculate_summary_statistics\n",
    "from src.visualization import plot_correlation_matrix, plot_histograms, plot_scatter\n",
    "\n",
    "# Load the cleaned data\n",
    "df = pd.read_csv('../data/processed/cleaned_dataset.csv')\n",
    "\n",
    "# Calculate and display summary statistics\n",
    "summary_stats = calculate_summary_statistics(df)\n",
    "print(summary_stats)\n",
    "\n",
    "# Create visualizations\n",
    "plot_correlation_matrix(df)\n",
    "plot_histograms(df)\n",
    "plot_scatter(df, 'column1', 'column2')  # Replace with actual column names\n",
    "\n",
    "print(\"Exploratory data analysis completed. Check the 'results/figures' directory for generated plots.\")"
   ]
  }
 ],
 "metadata": {
  "kernelspec": {
   "display_name": "Python 3",
   "language": "python",
   "name": "python3"
  },
  "language_info": {
   "codemirror_mode": {
    "name": "ipython",
    "version": 2
   },
   "file_extension": ".py",
   "mimetype": "text/x-python",
   "name": "python",
   "nbconvert_exporter": "python",
   "pygments_lexer": "ipython2",
   "version": "2.7.6"
  }
 },
 "nbformat": 4,
 "nbformat_minor": 5
}
