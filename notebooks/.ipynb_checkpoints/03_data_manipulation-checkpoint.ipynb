{
 "cells": [
  {
   "cell_type": "code",
   "execution_count": null,
   "id": "initial_id",
   "metadata": {
    "collapsed": true
   },
   "outputs": [],
   "source": [
    "import sys\n",
    "sys.path.append('..')\n",
    "\n",
    "import pandas as pd\n",
    "\n",
    "# Load the cleaned data\n",
    "df = pd.read_csv('../data/processed/cleaned_dataset.csv')\n",
    "\n",
    "# Example: Filter data\n",
    "filtered_df = df[df['some_column'] > some_value]\n",
    "\n",
    "# Example: Group by and aggregate\n",
    "grouped_df = df.groupby('category_column').agg({\n",
    "    'numeric_column1': 'mean',\n",
    "    'numeric_column2': 'sum',\n",
    "    'numeric_column3': 'max'\n",
    "}).reset_index()\n",
    "\n",
    "# Example: Create a new column\n",
    "df['new_column'] = df['column1'] / df['column2']\n",
    "\n",
    "# Display the results\n",
    "print(grouped_df)\n",
    "print(df['new_column'].head())\n",
    "\n",
    "# Save the manipulated data\n",
    "df.to_csv('../data/processed/manipulated_dataset.csv', index=False)\n",
    "print(\"Data manipulation completed. Manipulated data saved to '../data/processed/manipulated_dataset.csv'\")"
   ]
  }
 ],
 "metadata": {
  "kernelspec": {
   "display_name": "Python 3",
   "language": "python",
   "name": "python3"
  },
  "language_info": {
   "codemirror_mode": {
    "name": "ipython",
    "version": 2
   },
   "file_extension": ".py",
   "mimetype": "text/x-python",
   "name": "python",
   "nbconvert_exporter": "python",
   "pygments_lexer": "ipython2",
   "version": "2.7.6"
  }
 },
 "nbformat": 4,
 "nbformat_minor": 5
}
