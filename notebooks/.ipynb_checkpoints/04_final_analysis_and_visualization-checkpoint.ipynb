{
 "cells": [
  {
   "cell_type": "code",
   "execution_count": null,
   "id": "initial_id",
   "metadata": {
    "collapsed": true
   },
   "outputs": [],
   "source": [
    "import sys\n",
    "sys.path.append('..')\n",
    "\n",
    "import pandas as pd\n",
    "import matplotlib.pyplot as plt\n",
    "from src.data_analysis import perform_t_test, create_pivot_table\n",
    "\n",
    "# Load the manipulated data\n",
    "df = pd.read_csv('../data/processed/manipulated_dataset.csv')\n",
    "\n",
    "# Perform t-test\n",
    "t_stat, p_value = perform_t_test(df, 'category_column', 'value_column', 'group1', 'group2')\n",
    "print(f\"T-test results: T-statistic = {t_stat}, p-value = {p_value}\")\n",
    "\n",
    "# Create pivot table\n",
    "pivot_table = create_pivot_table(df, values='numeric_column', index='category1', columns='category2')\n",
    "print(\"Pivot table:\")\n",
    "print(pivot_table)\n",
    "\n",
    "# Create final visualizations\n",
    "plt.figure(figsize=(12, 6))\n",
    "df.groupby('category_column')['numeric_column1'].mean().plot(kind='bar')\n",
    "plt.title('Average Numeric Column 1 by Category')\n",
    "plt.xlabel('Category')\n",
    "plt.ylabel('Average Value')\n",
    "plt.xticks(rotation=45)\n",
    "plt.savefig('../results/figures/avg_by_category.png')\n",
    "plt.close()\n",
    "\n",
    "print(\"Final analysis and visualization completed. Check the 'results/figures' directory for the final plot.\")"
   ]
  }
 ],
 "metadata": {
  "kernelspec": {
   "display_name": "Python 3",
   "language": "python",
   "name": "python3"
  },
  "language_info": {
   "codemirror_mode": {
    "name": "ipython",
    "version": 2
   },
   "file_extension": ".py",
   "mimetype": "text/x-python",
   "name": "python",
   "nbconvert_exporter": "python",
   "pygments_lexer": "ipython2",
   "version": "2.7.6"
  }
 },
 "nbformat": 4,
 "nbformat_minor": 5
}
